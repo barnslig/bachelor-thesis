{
 "cells": [
  {
   "cell_type": "markdown",
   "source": [
    "# Protocol: Comparison with the Grapple Paper using the Waypoints Model\n",
    "\n",
    "Date: 18.09.2021\n",
    "\n",
    "## Question\n",
    "\n",
    "Does our implementation reach the same number of discovered waypoints in relation to the amount of executed VTs as in the Grapple paper?\n",
    "\n",
    "## Hypothesis\n",
    "\n",
    "Both implementations should behave similarly, reaching over 80 discovered waypoints in 20000 VTs and all 100 waypoints in about 100000 VTs.\n",
    "\n",
    "## Setup\n",
    "\n",
    "- GPU: NVIDIA GeForce RTX 2080 Ti\n",
    "- Program: `main` branch, commit e160572\n",
    "- Model: Waypoints model\n",
    "- CUDA_FLAGS: `-DGRAPPLE_MODEL=WaypointsState`\n",
    "\n",
    "## Implementation\n",
    "\n",
    "We run a single experiment with an arbitrary number of 1000 runs à 250 VTs.\n",
    "\n",
    "```\n",
    "$ time ./build/grapple -s 1736331306 -n 1000\n",
    "...\n",
    "\n",
    "real    7m22.195s\n",
    "user    7m21.844s\n",
    "sys     0m0.296s\n",
    "```\n",
    "\n",
    "Full output data is available at [EXP-00-comparison-with-paper.csv](./data/EXP-00-comparison-with-paper.csv).\n",
    "\n",
    "## Evaluation\n",
    "\n",
    "Both implementations share the following configuration:\n",
    "- Each VT is executed using 32 threads (Full-Warp Grapple)\n",
    "- Each VT is using a $32 \\times 32 \\times 4$ queue structure, resulting in 4096 queue entries\n",
    "\n",
    "First, we plot the discovered violations in relation to executed VTs of our implementation:"
   ],
   "metadata": {}
  },
  {
   "cell_type": "code",
   "execution_count": 1,
   "source": [
    "import pandas as pd\n",
    "import matplotlib.pyplot as plt\n",
    "\n",
    "plt.style.use(\"presentation.mplstyle\")\n",
    "\n",
    "data = pd.read_csv(\"./data/EXP-00-comparison-with-paper.csv\", skipinitialspace=True)\n",
    "\n",
    "pp = data[pd.notnull(data[\"state\"])].plot(x=\"vts\", xlabel=\"VTs\", y=\"uniques\", ylabel=\"Discovered violations\", grid=True, legend=False, title=\"Waypoints, HT 18, SO 0\")\n",
    "pp.axhline(y=100, color=\"black\", linewidth=2)\n",
    "\n",
    "pp.get_figure().savefig(\"output-assets/EXP-00-comparison-with-paper.pdf\")"
   ],
   "outputs": [
    {
     "output_type": "display_data",
     "data": {
      "image/png": "[encoded data removed]",
      "text/plain": [
       "<Figure size 432x288 with 1 Axes>"
      ]
     },
     "metadata": {
      "needs_background": "light"
     }
    }
   ],
   "metadata": {}
  },
  {
   "cell_type": "markdown",
   "source": [
    "In the paper, waypoints discovery per VT is provided through this graphic.\n",
    "We are only interested in the orange line (Full-Warp Grapple)."
   ],
   "metadata": {}
  },
  {
   "cell_type": "markdown",
   "source": [
    "\n",
    "<img src=\"assets/EXP-00-grapple-paper-waypoints.png\" width=\"420\" />"
   ],
   "metadata": {}
  },
  {
   "cell_type": "markdown",
   "source": [
    "## Conclusion, Discussion\n",
    "\n",
    "Clearly, our implementation finds significantly less waypoints, even though the amount of VTs is considerably larger.\n",
    "\n",
    "Thus, our hypothesis cannot be confirmed.\n",
    "\n",
    "To further investigate differences between the implementations, we conduct additional experiments:\n",
    "\n",
    "- In [EXP-01](EXP-01-comparison-waypoints-hll.ipynb), we confirm that waypoints are an actual indicator of state space coverage in our implementation by comparing them to the results from the HyperLogLog++ counting.\n",
    "- In [EXP-02](EXP-02-large-hash-table.ipynb) and [EXP-03](EXP-03-shared-kernel.ipynb), we compare two key difference between the implementations: The hash table size and parallel execution of VTs.\n",
    "- In [EXP-04](EXP-04-start-overs.ipynb), we try out our *start over* strategy that significantly increases waypoint discovery and execution time."
   ],
   "metadata": {}
  }
 ],
 "metadata": {
  "orig_nbformat": 4,
  "language_info": {
   "name": "python",
   "version": "3.9.5",
   "mimetype": "text/x-python",
   "codemirror_mode": {
    "name": "ipython",
    "version": 3
   },
   "pygments_lexer": "ipython3",
   "nbconvert_exporter": "python",
   "file_extension": ".py"
  },
  "kernelspec": {
   "name": "python3",
   "display_name": "Python 3.9.5 64-bit ('base': conda)"
  },
  "interpreter": {
   "hash": "98b0a9b7b4eaaa670588a142fd0a9b87eaafe866f1db4228be72b4211d12040f"
  }
 },
 "nbformat": 4,
 "nbformat_minor": 2
}