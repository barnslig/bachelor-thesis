{
 "cells": [
  {
   "cell_type": "markdown",
   "source": [
    "# Protocol: Comparison of Waypoints and HLL as Indicators of State Space Coverage\n",
    "\n",
    "Date: 16.9.2021\n",
    "\n",
    "## Question\n",
    "\n",
    "Do discovered waypoints and the number of Unique States Visited counted by a HyperLogLog++ give similar indication of state space coverage?\n",
    "\n",
    "## Hypothesis\n",
    "\n",
    "Both indicators should give similar results, i.e. when 20 waypoints are discovered, the coverage according to the HyperLogLog++ estimation should be around 20% of the state space.\n",
    "\n",
    "## Setup\n",
    "\n",
    "- GPU: NVIDIA GeForce RTX 2080 Ti\n",
    "- Program: `main` branch, commit e160572\n",
    "- Model: Waypoints model\n",
    "- CUDA_FLAGS: `-DGRAPPLE_MODEL=WaypointsState`\n",
    "\n",
    "## Implementation\n",
    "\n",
    "We run a single experiment with an arbitrary number of 1000 runs à 250 VTs.\n",
    "\n",
    "```\n",
    "$ time ./build/grapple -s 1736331306 -n 1000\n",
    "...\n",
    "\n",
    "real    7m22.195s\n",
    "user    7m21.844s\n",
    "sys     0m0.296s\n",
    "```\n",
    "\n",
    "Full output data is available at [EXP-01-comparison-waypoints-hll.csv](./data/EXP-01-comparison-waypoints-hll.csv).\n",
    "\n",
    "## Evaluation\n",
    "\n",
    "We compare the two indicators by plotting them:"
   ],
   "metadata": {}
  },
  {
   "cell_type": "code",
   "execution_count": null,
   "source": [
    "import pandas as pd\n",
    "\n",
    "data = pd.read_csv(\"./data/EXP-01-comparison-waypoints-hll.csv\", skipinitialspace=True)\n",
    "\n",
    "pp = data.plot(x=\"vts\", xlabel=\"VTs\", y=\"visited_percent\", ylabel=\"% visited of the state space\", grid=True, legend=False)\n",
    "pp.axhline(y=100, color=\"red\", zorder=0)\n",
    "\n",
    "pp = data[pd.notnull(data[\"state\"])].plot(x=\"vts\", xlabel=\"VTs\", y=\"uniques\", ylabel=\"Discovered violations\", grid=True, legend=False)\n",
    "pp.axhline(y=100, color=\"red\", zorder=0)"
   ],
   "outputs": [],
   "metadata": {}
  },
  {
   "cell_type": "markdown",
   "source": [
    "## Conclusion, Discussion\n",
    "\n",
    "The experiment has shown that both indicators seem to resemble each other closely.\n",
    "\n",
    "Thus, our Hypothesis can be confirmed."
   ],
   "metadata": {}
  }
 ],
 "metadata": {
  "orig_nbformat": 4,
  "language_info": {
   "name": "python",
   "version": "3.8.10"
  },
  "kernelspec": {
   "name": "python3",
   "display_name": "Python 3.8.10 64-bit"
  },
  "interpreter": {
   "hash": "31f2aee4e71d21fbe5cf8b01ff0e069b9275f58929596ceb00d14d90e3e16cd6"
  }
 },
 "nbformat": 4,
 "nbformat_minor": 2
}